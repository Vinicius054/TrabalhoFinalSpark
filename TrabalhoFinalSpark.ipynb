{
  "nbformat": 4,
  "nbformat_minor": 0,
  "metadata": {
    "colab": {
      "provenance": [],
      "collapsed_sections": [
        "w5x0IaSiIa-V",
        "cyg8PkY3Jlq8",
        "pI_ZJlDoKZUj",
        "JTxx8jwBKnK8",
        "NzUlAbBiO6CJ",
        "0aS9jHcwSt0Z",
        "DPRyety9XLQ6",
        "eIjyufHbYwL4",
        "d-4wMpABa1Vf",
        "sGLQPfzBd317",
        "LS_i9Mahe1MW",
        "UlQnp4ipiAQt",
        "mVb8pNfyINB4",
        "-IV-rfpgJZpe"
      ],
      "mount_file_id": "1322k_Ics39QMwwvXnHfLkY0JeKKcWGQW",
      "authorship_tag": "ABX9TyOYfCnvq+aKemmE76zc1tIg",
      "include_colab_link": true
    },
    "kernelspec": {
      "name": "python3",
      "display_name": "Python 3"
    },
    "language_info": {
      "name": "python"
    }
  },
  "cells": [
    {
      "cell_type": "markdown",
      "metadata": {
        "id": "view-in-github",
        "colab_type": "text"
      },
      "source": [
        "<a href=\"https://colab.research.google.com/github/Vinicius054/TrabalhoFinalSpark/blob/main/TrabalhoFinalSpark.ipynb\" target=\"_parent\"><img src=\"https://colab.research.google.com/assets/colab-badge.svg\" alt=\"Open In Colab\"/></a>"
      ]
    },
    {
      "cell_type": "markdown",
      "source": [
        "#Tratando dados de cadastro dos CNPJs do Brasil, retirados da Receita Federal."
      ],
      "metadata": {
        "id": "2Bll0LEu2Rl8"
      }
    },
    {
      "cell_type": "code",
      "execution_count": null,
      "metadata": {
        "id": "GK6FmX9WfLBD"
      },
      "outputs": [],
      "source": [
        "#Instalar as dependencias \n",
        "#Instalado Java\n",
        "!apt-get install openjdk-8-jdk-headless -qq > /dev/null\n",
        "#Instalando  Spark\n",
        "!wget -q https://archive.apache.org/dist/spark/spark-3.1.2/spark-3.1.2-bin-hadoop2.7.tgz\n",
        "#Extrair Arquivos\n",
        "!tar xf spark-3.1.2-bin-hadoop2.7.tgz\n",
        "#Instalando o findspark\n",
        "!pip install -q findspark"
      ]
    },
    {
      "cell_type": "code",
      "source": [
        "import os\n",
        "os.environ[\"JAVA_HOME\"] = \"/usr/lib/jvm/java-8-openjdk-amd64\"\n",
        "os.environ[\"SPARK_HOME\"] = \"/content/spark-3.1.2-bin-hadoop2.7\""
      ],
      "metadata": {
        "id": "9TWD2tr2fujq"
      },
      "execution_count": null,
      "outputs": []
    },
    {
      "cell_type": "code",
      "source": [
        "import findspark\n",
        "findspark.init()"
      ],
      "metadata": {
        "id": "VGes7Mv15EsN"
      },
      "execution_count": null,
      "outputs": []
    },
    {
      "cell_type": "markdown",
      "source": [
        "#Carregamento de Dados"
      ],
      "metadata": {
        "id": "Xr9s1Vr55SIY"
      }
    },
    {
      "cell_type": "code",
      "source": [
        "from pyspark.sql import SparkSession\n",
        "\n",
        "spark = SparkSession.builder \\\n",
        "     .master('local[*]') \\\n",
        "     .appName('Iniciando com Spark') \\\n",
        "     .config('spark.ui.port', '4050') \\\n",
        "     .getOrCreate()"
      ],
      "metadata": {
        "id": "86esm_o0gBzq"
      },
      "execution_count": null,
      "outputs": []
    },
    {
      "cell_type": "markdown",
      "source": [
        "Faz o dowload da ferramenta Ngrok(Linha 01)\n",
        "Extrai os arquivos (Linha 02)\n",
        "Permite que possamos expor nosso localhost na internet pública de forma segura"
      ],
      "metadata": {
        "id": "AyM1YB6L-sYP"
      }
    },
    {
      "cell_type": "code",
      "source": [
        "!wget -q https://bin.equinox.io/c/4VmDzA7iaHb/nrok-stable-linux-amd64.zip\n",
        "!unzip ngrok-stable-linux-amd64.zip"
      ],
      "metadata": {
        "id": "v_S8rRKV-ejS",
        "colab": {
          "base_uri": "https://localhost:8080/"
        },
        "outputId": "6a8b0f4f-f95b-4576-c004-4c88ee4e93b2"
      },
      "execution_count": null,
      "outputs": [
        {
          "output_type": "stream",
          "name": "stdout",
          "text": [
            "unzip:  cannot find or open ngrok-stable-linux-amd64.zip, ngrok-stable-linux-amd64.zip.zip or ngrok-stable-linux-amd64.zip.ZIP.\n"
          ]
        }
      ]
    },
    {
      "cell_type": "code",
      "source": [
        "get_ipython().system_raw('./ngrok authtoken ngrok config add-authtoken 2HPehWZIpkqy80elOTfKgUGRpOB_7qswr7xN7uFEx2Nj1AazM')\n",
        "get_ipython().system_raw('./ngrok http 4050 &')"
      ],
      "metadata": {
        "id": "eXvmGoFu_ELk"
      },
      "execution_count": null,
      "outputs": []
    },
    {
      "cell_type": "code",
      "source": [
        "!curl -s http://localhost:4040/api/tunnels"
      ],
      "metadata": {
        "id": "mz6zO7p6_R0U"
      },
      "execution_count": null,
      "outputs": []
    },
    {
      "cell_type": "code",
      "source": [
        "#  spark"
      ],
      "metadata": {
        "id": "yH6L2Jk45iVt"
      },
      "execution_count": null,
      "outputs": []
    },
    {
      "cell_type": "markdown",
      "source": [
        "#Montagem do Drive"
      ],
      "metadata": {
        "id": "ZlPlUiRqCNzA"
      }
    },
    {
      "cell_type": "code",
      "source": [
        "from google.colab import drive \n",
        "drive.mount('/content/drive')"
      ],
      "metadata": {
        "colab": {
          "base_uri": "https://localhost:8080/"
        },
        "id": "UABglULDCQk8",
        "outputId": "86f85901-1716-4d38-fddd-2fe0189e42f0"
      },
      "execution_count": null,
      "outputs": [
        {
          "output_type": "stream",
          "name": "stdout",
          "text": [
            "Drive already mounted at /content/drive; to attempt to forcibly remount, call drive.mount(\"/content/drive\", force_remount=True).\n"
          ]
        }
      ]
    },
    {
      "cell_type": "markdown",
      "source": [
        "#Carregando os dados da empresa"
      ],
      "metadata": {
        "id": "1eTkPXdIDAcE"
      }
    },
    {
      "cell_type": "code",
      "source": [
        "import zipfile"
      ],
      "metadata": {
        "id": "z9stBHRuDDpp"
      },
      "execution_count": null,
      "outputs": []
    },
    {
      "cell_type": "code",
      "source": [
        "zipfile.ZipFile('/content/drive/MyDrive/curso-spark/empresas.zip','r').extractall('/content/drive/MyDrive/curso-spark')"
      ],
      "metadata": {
        "id": "8nL2WRSuD5OC"
      },
      "execution_count": null,
      "outputs": []
    },
    {
      "cell_type": "code",
      "source": [
        "path = '/content/drive/MyDrive/curso-spark/empresas'\n",
        "empresas = spark.read.csv(path, sep =';', inferSchema= True)"
      ],
      "metadata": {
        "id": "irjTIGsGEcrs"
      },
      "execution_count": null,
      "outputs": []
    },
    {
      "cell_type": "code",
      "source": [
        "empresas.count()"
      ],
      "metadata": {
        "colab": {
          "base_uri": "https://localhost:8080/"
        },
        "id": "Tar-GVkFH9cO",
        "outputId": "d3c52844-6722-4799-cdc5-ae248de8d552"
      },
      "execution_count": null,
      "outputs": [
        {
          "output_type": "execute_result",
          "data": {
            "text/plain": [
              "4585679"
            ]
          },
          "metadata": {},
          "execution_count": 13
        }
      ]
    },
    {
      "cell_type": "markdown",
      "source": [
        "#Carregando dados estabelecimento"
      ],
      "metadata": {
        "id": "w5x0IaSiIa-V"
      }
    },
    {
      "cell_type": "code",
      "source": [
        "import zipfile"
      ],
      "metadata": {
        "id": "1O9pKGJhIeN-"
      },
      "execution_count": null,
      "outputs": []
    },
    {
      "cell_type": "code",
      "source": [
        "zipfile.ZipFile('/content/drive/MyDrive/curso-spark/estabelecimentos.zip').extractall('/content/drive/MyDrive/curso-spark')\n",
        "path = '/content/drive/MyDrive/curso-spark/estabelecimentos'\n",
        "estabelecimentos = spark.read.csv(path, sep = ';', inferSchema = True)"
      ],
      "metadata": {
        "id": "nxDUNBCoIy_L"
      },
      "execution_count": null,
      "outputs": []
    },
    {
      "cell_type": "code",
      "source": [
        "estabelecimentos.count()"
      ],
      "metadata": {
        "id": "rX2sSdrdX3qp",
        "colab": {
          "base_uri": "https://localhost:8080/"
        },
        "outputId": "bc438bd0-d982-47ba-a50c-f7994690f214"
      },
      "execution_count": null,
      "outputs": [
        {
          "output_type": "execute_result",
          "data": {
            "text/plain": [
              "4836219"
            ]
          },
          "metadata": {},
          "execution_count": 16
        }
      ]
    },
    {
      "cell_type": "markdown",
      "source": [
        "#Carregando dados socios"
      ],
      "metadata": {
        "id": "cyg8PkY3Jlq8"
      }
    },
    {
      "cell_type": "code",
      "source": [
        "import zipfile\n",
        "zipfile.ZipFile('/content/drive/MyDrive/curso-spark/socios.zip').extractall('/content/drive/MyDrive/curso-spark')\n"
      ],
      "metadata": {
        "id": "lDa6CfWkJo24"
      },
      "execution_count": null,
      "outputs": []
    },
    {
      "cell_type": "code",
      "source": [
        "path = '/content/drive/MyDrive/curso-spark/socios'\n",
        "socios = spark.read.csv(path, sep =';', inferSchema= True)"
      ],
      "metadata": {
        "id": "In4Asqg4KBvH"
      },
      "execution_count": null,
      "outputs": []
    },
    {
      "cell_type": "code",
      "source": [
        "socios.count()"
      ],
      "metadata": {
        "colab": {
          "base_uri": "https://localhost:8080/"
        },
        "id": "kuJaoaBiKI-S",
        "outputId": "7ab025a9-8fdd-4024-816f-d18f5ec469a1"
      },
      "execution_count": null,
      "outputs": [
        {
          "output_type": "execute_result",
          "data": {
            "text/plain": [
              "2046430"
            ]
          },
          "metadata": {},
          "execution_count": 19
        }
      ]
    },
    {
      "cell_type": "markdown",
      "source": [
        "#Renomear as colunas do DataFrame"
      ],
      "metadata": {
        "id": "JTxx8jwBKnK8"
      }
    },
    {
      "cell_type": "code",
      "source": [
        "empresasColNames = ['cnpj_basico', 'razao_social_nome_empresarial', 'natureza_juridica', 'qualificacao_do_responsavel', 'capital_social_da_empresa', 'porte_da_empresa', 'ente_federativo_responsavel']\n",
        "estabsColNames = ['cnpj_basico', 'cnpj_ordem', 'cnpj_dv', 'identificador_matriz_filial', 'nome_fantasia', 'situacao_cadastral', 'data_situacao_cadastral', 'motivo_situacao_cadastral', 'nome_da_cidade_no_exterior', 'pais', 'data_de_inicio_atividade', 'cnae_fiscal_principal', 'cnae_fiscal_secundaria', 'tipo_de_logradouro', 'logradouro', 'numero', 'complemento', 'bairro', 'cep', 'uf', 'municipio', 'ddd_1', 'telefone_1', 'ddd_2', 'telefone_2', 'ddd_do_fax', 'fax', 'correio_eletronico', 'situacao_especial', 'data_da_situacao_especial']\n",
        "sociosColNames = ['cnpj_basico', 'identificador_de_socio', 'nome_do_socio_ou_razao_social', 'cnpj_ou_cpf_do_socio', 'qualificacao_do_socio', 'data_de_entrada_sociedade', 'pais', 'representante_legal', 'nome_do_representante', 'qualificacao_do_representante_legal', 'faixa_etaria']"
      ],
      "metadata": {
        "id": "cXOBGXt8KqT7"
      },
      "execution_count": null,
      "outputs": []
    },
    {
      "cell_type": "code",
      "source": [
        "for index, colName in enumerate(empresasColNames):\n",
        "        empresas = empresas.withColumnRenamed(f\"_c{index}\", colName)\n",
        "empresas.columns\n"
      ],
      "metadata": {
        "id": "hVUGv8xIKzlZ"
      },
      "execution_count": null,
      "outputs": []
    },
    {
      "cell_type": "code",
      "source": [
        "\n",
        "empresas.limit(5).toPandas()"
      ],
      "metadata": {
        "id": "E88V_a91dYHU"
      },
      "execution_count": null,
      "outputs": []
    },
    {
      "cell_type": "code",
      "source": [
        "empresas.printSchema()"
      ],
      "metadata": {
        "id": "h-Leoiyddcgv"
      },
      "execution_count": null,
      "outputs": []
    },
    {
      "cell_type": "code",
      "source": [
        "for index, colName in enumerate(estabsColNames):\n",
        "        estabelecimentos = estabelecimentos.withColumnRenamed(f\"_c{index}\", colName)\n",
        "estabelecimentos.columns"
      ],
      "metadata": {
        "id": "6qyQvvNja5Aj"
      },
      "execution_count": null,
      "outputs": []
    },
    {
      "cell_type": "code",
      "source": [
        "estabelecimentos.limit(5).toPandas()"
      ],
      "metadata": {
        "id": "9ZAJjsg0dUhm"
      },
      "execution_count": null,
      "outputs": []
    },
    {
      "cell_type": "code",
      "source": [
        "estabelecimentos.printSchema()"
      ],
      "metadata": {
        "id": "_Mhlsdnqddlk"
      },
      "execution_count": null,
      "outputs": []
    },
    {
      "cell_type": "code",
      "source": [
        "for index, colName in enumerate(sociosColNames):\n",
        "        socios = socios.withColumnRenamed(f\"_c{index}\", colName)\n",
        "socios.columns"
      ],
      "metadata": {
        "id": "vEBaPCvtb9-m"
      },
      "execution_count": null,
      "outputs": []
    },
    {
      "cell_type": "code",
      "source": [
        "socios.limit(5).toPandas()"
      ],
      "metadata": {
        "id": "cJpv411zdQod"
      },
      "execution_count": null,
      "outputs": []
    },
    {
      "cell_type": "code",
      "source": [
        "socios.printSchema()"
      ],
      "metadata": {
        "id": "DQX8yKu8jUtZ"
      },
      "execution_count": null,
      "outputs": []
    },
    {
      "cell_type": "markdown",
      "source": [
        "#Convertendo String -> Double\n"
      ],
      "metadata": {
        "id": "NzUlAbBiO6CJ"
      }
    },
    {
      "cell_type": "code",
      "source": [
        "from pyspark.sql.types import DoubleType, StringType\n",
        "from pyspark.sql import functions as f"
      ],
      "metadata": {
        "id": "yh8zSQ2dO_X0"
      },
      "execution_count": null,
      "outputs": []
    },
    {
      "cell_type": "code",
      "source": [
        "empresas.printSchema()"
      ],
      "metadata": {
        "id": "8w1XxbwEPL6A"
      },
      "execution_count": null,
      "outputs": []
    },
    {
      "cell_type": "code",
      "source": [
        "empresas.limit(5).toPandas()"
      ],
      "metadata": {
        "id": "xqOzTLD6PPUE"
      },
      "execution_count": null,
      "outputs": []
    },
    {
      "cell_type": "code",
      "source": [
        "empresas = empresas.withColumn('capital_social_da_empresa', f.regexp_replace('capital_social_da_empresa', ',','.'))\n",
        "empresas.limit(5).toPandas()"
      ],
      "metadata": {
        "id": "3jYnQONZPW8g"
      },
      "execution_count": null,
      "outputs": []
    },
    {
      "cell_type": "code",
      "source": [
        "empresas = empresas.withColumn('capital_social_da_empresa', empresas['capital_social_da_empresa'].cast(DoubleType()))"
      ],
      "metadata": {
        "id": "BK7rkFpYP46m"
      },
      "execution_count": null,
      "outputs": []
    },
    {
      "cell_type": "code",
      "source": [
        "empresas.printSchema()"
      ],
      "metadata": {
        "id": "9U4EkfmSQOfn"
      },
      "execution_count": null,
      "outputs": []
    },
    {
      "cell_type": "markdown",
      "source": [
        "#Convertendo String -> Date -> Estabelecimentos\n",
        "\n",
        "\n",
        "\n"
      ],
      "metadata": {
        "id": "0aS9jHcwSt0Z"
      }
    },
    {
      "cell_type": "code",
      "source": [
        "df = spark.createDataFrame([(20200924,), (20201022,), (20210215,)], ['data'])\n",
        "df.toPandas()\n",
        "df.printSchema()"
      ],
      "metadata": {
        "id": "tJOVy0LlTMny"
      },
      "execution_count": null,
      "outputs": []
    },
    {
      "cell_type": "code",
      "source": [
        "df = df.withColumn(\"data\" , f.to_date(df.data.cast(StringType()), 'yyyyMMdd'))\n",
        "df.printSchema()"
      ],
      "metadata": {
        "id": "EjbtDVQETSO8"
      },
      "execution_count": null,
      "outputs": []
    },
    {
      "cell_type": "code",
      "source": [
        "df.toPandas()"
      ],
      "metadata": {
        "id": "IK9yJ996Tzc-"
      },
      "execution_count": null,
      "outputs": []
    },
    {
      "cell_type": "code",
      "source": [
        "estabelecimentos.limit(5).toPandas()"
      ],
      "metadata": {
        "id": "NnfUKmFMUFif"
      },
      "execution_count": null,
      "outputs": []
    },
    {
      "cell_type": "code",
      "source": [
        "estabelecimentos.printSchema()"
      ],
      "metadata": {
        "id": "PK2vkHvXVLzh"
      },
      "execution_count": null,
      "outputs": []
    },
    {
      "cell_type": "code",
      "source": [
        "estabelecimentos = estabelecimentos\\\n",
        "  .withColumn(\n",
        "      \"data_situacao_cadastral\",\n",
        "      f.to_date(estabelecimentos.data_situacao_cadastral.cast(StringType()), 'yyyyMMdd')\n",
        "  )\\\n",
        "  .withColumn(\n",
        "     \"data_de_inicio_atividade\",\n",
        "      f.to_date(estabelecimentos.data_de_inicio_atividade.cast(StringType()), 'yyyyMMdd')\n",
        "  )\\\n",
        "  .withColumn(\n",
        "      \"data_da_situacao_especial\",\n",
        "      f.to_date(estabelecimentos.data_da_situacao_especial.cast(StringType()), 'yyyyMMdd')\n",
        "  )\n",
        "\n",
        "estabelecimentos.printSchema()"
      ],
      "metadata": {
        "id": "0QHNo5SYVU47"
      },
      "execution_count": null,
      "outputs": []
    },
    {
      "cell_type": "code",
      "source": [
        "estabelecimentos.limit(5).toPandas()"
      ],
      "metadata": {
        "id": "k9N9on4sXADG"
      },
      "execution_count": null,
      "outputs": []
    },
    {
      "cell_type": "markdown",
      "source": [
        "#Convertendo String -> Date -> Socios"
      ],
      "metadata": {
        "id": "DPRyety9XLQ6"
      }
    },
    {
      "cell_type": "code",
      "source": [
        "socios.printSchema()"
      ],
      "metadata": {
        "id": "lCrkNWi4XaFL"
      },
      "execution_count": null,
      "outputs": []
    },
    {
      "cell_type": "code",
      "source": [
        "socios = socios\\\n",
        "  .withColumn(\n",
        "      \"data_de_entrada_sociedade\",\n",
        "      f.to_date(socios.data_de_entrada_sociedade.cast(StringType()), 'yyyyMMdd')\n",
        "  )"
      ],
      "metadata": {
        "id": "cbyjwvozXfNG"
      },
      "execution_count": null,
      "outputs": []
    },
    {
      "cell_type": "code",
      "source": [
        "socios.limit(5).toPandas()"
      ],
      "metadata": {
        "id": "UQGarOoBYLYF"
      },
      "execution_count": null,
      "outputs": []
    },
    {
      "cell_type": "markdown",
      "source": [
        "#Seleções e Consultas\n",
        "\n",
        "---"
      ],
      "metadata": {
        "id": "eIjyufHbYwL4"
      }
    },
    {
      "cell_type": "markdown",
      "source": [
        "#Selecionando Informações => Empresas, Socios e Estabelecimentos"
      ],
      "metadata": {
        "id": "MVXtr0PBY6w0"
      }
    },
    {
      "cell_type": "code",
      "source": [
        "empresas\\\n",
        "    .select('*')\\\n",
        "    .show(5, False)"
      ],
      "metadata": {
        "id": "kXy9uFSgY_Tw"
      },
      "execution_count": null,
      "outputs": []
    },
    {
      "cell_type": "code",
      "source": [
        "empresas\\\n",
        "    .select('natureza_juridica', 'porte_da_empresa', 'capital_social_da_empresa')\\\n",
        "    .show(5)"
      ],
      "metadata": {
        "id": "QEME7YKNZSMA"
      },
      "execution_count": null,
      "outputs": []
    },
    {
      "cell_type": "code",
      "source": [
        "socios\\\n",
        "  .select('nome_do_socio_ou_razao_social', 'faixa_etaria', f.year('data_de_entrada_sociedade').alias('ano_de_entrada'))\\\n",
        "  .show(5,False)"
      ],
      "metadata": {
        "id": "SGepWFAoZopy"
      },
      "execution_count": null,
      "outputs": []
    },
    {
      "cell_type": "code",
      "source": [
        "estabelecimentos\\\n",
        "    .select('nome_fantasia', 'municipio', f.year('data_de_inicio_atividade').alias('ano_de_inicio_atividade'), \n",
        "           f.month('data_de_inicio_atividade').alias('mes_de_inicio_atividade'))\\\n",
        "    .show(5)"
      ],
      "metadata": {
        "id": "cNGDsY35a3ta"
      },
      "execution_count": null,
      "outputs": []
    },
    {
      "cell_type": "markdown",
      "source": [
        "#Identificando Valores Nulos NaN, Null e none\n",
        "- Aonde aparecer os dados dos Tipos nulos trocamos para o caracter respectivamente para o seu caracter."
      ],
      "metadata": {
        "id": "LS_i9Mahe1MW"
      }
    },
    {
      "cell_type": "code",
      "source": [
        "df = spark.createDataFrame([(1,), (2,), (3,), (None,)], ['data'])\n",
        "df.toPandas()\n"
      ],
      "metadata": {
        "id": "q4xeOKxzZ8I1"
      },
      "execution_count": null,
      "outputs": []
    },
    {
      "cell_type": "code",
      "source": [
        "df.show()"
      ],
      "metadata": {
        "id": "9MV4j9bCaMjT"
      },
      "execution_count": null,
      "outputs": []
    },
    {
      "cell_type": "code",
      "source": [
        "#Com float\n",
        "df = spark.createDataFrame([(1.,), (2.,), (3.,), (float('nan'),)], ['data'])\n",
        "df.toPandas()\n",
        "#NaN é tido como um tipo float"
      ],
      "metadata": {
        "id": "nrUcEOtSbgPz"
      },
      "execution_count": null,
      "outputs": []
    },
    {
      "cell_type": "code",
      "source": [
        "df.show()"
      ],
      "metadata": {
        "id": "cR8SZeMhb4hF"
      },
      "execution_count": null,
      "outputs": []
    },
    {
      "cell_type": "code",
      "source": [
        "#Com String\n",
        "df = spark.createDataFrame([('1',), ('2',), ('3',), (None,)], ['data'])\n",
        "df.toPandas()"
      ],
      "metadata": {
        "id": "Ovfi1XIscG-P"
      },
      "execution_count": null,
      "outputs": []
    },
    {
      "cell_type": "code",
      "source": [
        "socios.limit(5).toPandas()"
      ],
      "metadata": {
        "id": "ig0Z-gRUcgdr"
      },
      "execution_count": null,
      "outputs": []
    },
    {
      "cell_type": "code",
      "source": [
        "socios.limit(5).show()"
      ],
      "metadata": {
        "id": "LeeU-O2QdlLv"
      },
      "execution_count": null,
      "outputs": []
    },
    {
      "cell_type": "code",
      "source": [
        "#Contagem dos valores nulos\n",
        "socios.select([f.count(f.when(f.isnull(c), 1)).alias(c) for c in socios.columns]).show()\n"
      ],
      "metadata": {
        "id": "buitECzteAz8"
      },
      "execution_count": null,
      "outputs": []
    },
    {
      "cell_type": "code",
      "source": [
        "#Trocando variáveis do tipo numérica (Null) por 0\n",
        "socios.na.fill(0).limit(5).toPandas()"
      ],
      "metadata": {
        "id": "9ReQQB-egn0n"
      },
      "execution_count": null,
      "outputs": []
    },
    {
      "cell_type": "code",
      "source": [
        "#Trocando variáveis do tipo String (NaN) por -\n",
        "socios.na.fill('-').limit(5).toPandas()"
      ],
      "metadata": {
        "id": "1uyIBAQqhEYD"
      },
      "execution_count": null,
      "outputs": []
    },
    {
      "cell_type": "markdown",
      "source": [
        "#Ordenando os dados\n"
      ],
      "metadata": {
        "id": "UlQnp4ipiAQt"
      }
    },
    {
      "cell_type": "code",
      "source": [
        "#Ordenação em ordem decrescente\n",
        "socios\\\n",
        "            .select('nome_do_socio_ou_razao_social', 'faixa_etaria', f.year('data_de_entrada_sociedade').alias('ano_de_entrada'))\\\n",
        "            .orderBy('ano_de_entrada', ascending=False)\\\n",
        "            .show(5, False)\n"
      ],
      "metadata": {
        "id": "pgCjtn0LiD0T"
      },
      "execution_count": null,
      "outputs": []
    },
    {
      "cell_type": "code",
      "source": [
        "#Ordenando duas colunas \n",
        "#A ordem ao passar os valores na lista importa.\n",
        "socios\\\n",
        "            .select('nome_do_socio_ou_razao_social', 'faixa_etaria', f.year('data_de_entrada_sociedade').alias('ano_de_entrada'))\\\n",
        "            .orderBy(['ano_de_entrada', 'faixa_etaria'], ascending=[True, False])\\\n",
        "            .show(10, False)\n"
      ],
      "metadata": {
        "id": "PfXitonQjRTT"
      },
      "execution_count": null,
      "outputs": []
    },
    {
      "cell_type": "markdown",
      "source": [
        "#Filtrando os dados"
      ],
      "metadata": {
        "id": "ru_vO8P4lsA7"
      }
    },
    {
      "cell_type": "code",
      "source": [
        "#filtrar dados da empresa que tem o capital social de 50.0\n",
        "empresas\\\n",
        "  .where(\"capital_social_da_empresa==50\")\\\n",
        "  .show(5,False)"
      ],
      "metadata": {
        "id": "dKvdw4cglu9d"
      },
      "execution_count": null,
      "outputs": []
    },
    {
      "cell_type": "code",
      "source": [
        "#where e filter da para fazer a mesma coisa e aqui posso fazer busca utilizando dois filtros\n",
        "socios\\\n",
        "  .select(\"nome_do_socio_ou_razao_social\")\\\n",
        "  .filter(socios.nome_do_socio_ou_razao_social.startswith(\"VINICIUS\"))\\\n",
        "  .filter(socios.nome_do_socio_ou_razao_social.endswith(\"DANTAS\"))\\\n",
        "  .limit(10)\\\n",
        "  .toPandas()"
      ],
      "metadata": {
        "id": "gDIaQu1hmDov"
      },
      "execution_count": null,
      "outputs": []
    },
    {
      "cell_type": "markdown",
      "source": [
        "#Comando LIKE"
      ],
      "metadata": {
        "id": "hWfRAwrUnbh7"
      }
    },
    {
      "cell_type": "code",
      "source": [
        "df = spark.createDataFrame([('RESTAURANTE DO RUI',), ('Juca restaurantes ltda',), ('Joca Restaurante',)], ['data'])\n",
        "df.toPandas()"
      ],
      "metadata": {
        "id": "mc9ZxhFxndCx"
      },
      "execution_count": null,
      "outputs": []
    },
    {
      "cell_type": "code",
      "source": [
        "#Função que vai colocar todas as letras maiusculas e depois vai trazer todos os restaurentes\n",
        "df\\\n",
        "  .where(f.upper(df.data).like('%RESTAURANTE%'))\\\n",
        "  .show(truncate=False)\n",
        "\n",
        "# Se quero filtrar para pesquisa que COMECE com a palavra RESTAURANTE \n",
        "\n",
        "df\\\n",
        "  .where(f.upper(df.data).like('RESTAURANTE%'))\\\n",
        "  .show(truncate=False)\n",
        "\n",
        "# Se quero filtrar para pesquisa que TERMINE com a palavra RESTAURANTE \n",
        "\n",
        "\n",
        "df\\\n",
        "  .where(f.upper(df.data).like('%RESTAURANTE'))\\\n",
        "  .show(truncate=False)"
      ],
      "metadata": {
        "id": "IsuIxYW0otCl"
      },
      "execution_count": null,
      "outputs": []
    },
    {
      "cell_type": "code",
      "source": [
        "#Aqui eu posso buscar todos os restaurantes que existe na minha tabela\n",
        "empresas\\\n",
        "    .select('razao_social_nome_empresarial', 'natureza_juridica', 'porte_da_empresa', 'capital_social_da_empresa')\\\n",
        "    .filter(f.upper(empresas['razao_social_nome_empresarial']).like('%RESTAURANTE%'))\\\n",
        "    .show(15, False)"
      ],
      "metadata": {
        "id": "90nlxDqHpNlz"
      },
      "execution_count": null,
      "outputs": []
    },
    {
      "cell_type": "markdown",
      "source": [
        "#Agregação e junção\n",
        "\n",
        "\n",
        "---\n",
        "\n"
      ],
      "metadata": {
        "id": "IrvM5iw4A831"
      }
    },
    {
      "cell_type": "markdown",
      "source": [
        "#Sumarizando os Dados"
      ],
      "metadata": {
        "id": "90xJqZz5Avl2"
      }
    },
    {
      "cell_type": "code",
      "source": [
        "# Um agrupamento com uma contagem dos socios que entraram a partir do ano de 2010\n",
        "socios\\\n",
        "  .select(f.year('data_de_entrada_sociedade').alias('ano_de_entrada'))\\\n",
        "  .where('ano_de_entrada >= 2010')\\\n",
        "  .groupBy('ano_de_entrada')\\\n",
        "  .count()\\\n",
        "  .orderBy('ano_de_entrada', ascending=True)\\\n",
        "  .show()"
      ],
      "metadata": {
        "id": "yLn0f9OCA0Cf"
      },
      "execution_count": null,
      "outputs": []
    },
    {
      "cell_type": "code",
      "source": [
        "# E feito uma agregação, criando mais de um conjunto de estatísticas dentro do groupBy().\n",
        "# Utilizando o agg(), aggregate.\n",
        "#AVG vai retornar a media do capital social da empresa\n",
        "empresas\\\n",
        "  .select('cnpj_basico', 'porte_da_empresa', 'capital_social_da_empresa')\\\n",
        "  .groupBy('porte_da_empresa')\\\n",
        "  .agg(\n",
        "      f.avg(\"capital_social_da_empresa\").alias(\"capital_social_medio\"),\n",
        "      f.count(\"cnpj_basico\").alias(\"frequencia\")\n",
        "  )\\\n",
        "  .orderBy('porte_da_empresa', ascending=True)\\\n",
        "  .show()"
      ],
      "metadata": {
        "id": "Ju7dYFuHBK24"
      },
      "execution_count": null,
      "outputs": []
    },
    {
      "cell_type": "code",
      "source": [
        "empresas\\\n",
        "  .select(\"capital_social_da_empresa\")\\\n",
        "  .summary()\\\n",
        "  .show()\n",
        "\n",
        "  # posso usar qualquer desses metodos dentro do .summary(\"count\", \"mean\", \"stddev\", \"min\", \"25%\", \"50%\", \"75%\", \"max\"), \n",
        "  # e assim ele traria as informações mais filtrada de acordo com a necessidade, o nome do metodo e o describe, ele permite ."
      ],
      "metadata": {
        "id": "MBPpW8BnFWPK"
      },
      "execution_count": null,
      "outputs": []
    },
    {
      "cell_type": "markdown",
      "source": [
        "#Juntando DataFrame - Joins"
      ],
      "metadata": {
        "id": "AlKb67uPF8IG"
      }
    },
    {
      "cell_type": "markdown",
      "source": [
        "#Fazendo a junção dos dados do banco de dados, com JOIN."
      ],
      "metadata": {
        "id": "b0CtJqpqJc4a"
      }
    },
    {
      "cell_type": "code",
      "source": [
        "empresas.printSchema()"
      ],
      "metadata": {
        "id": "ICmJH654JiHq"
      },
      "execution_count": null,
      "outputs": []
    },
    {
      "cell_type": "code",
      "source": [
        "socios.printSchema()"
      ],
      "metadata": {
        "id": "DU8QaIAfJmXe"
      },
      "execution_count": null,
      "outputs": []
    },
    {
      "cell_type": "code",
      "source": [
        "estabelecimentos.printSchema()"
      ],
      "metadata": {
        "id": "kPtpdL7lJoUF"
      },
      "execution_count": null,
      "outputs": []
    },
    {
      "cell_type": "code",
      "source": [
        "empresas_join = estabelecimentos.join(empresas,'cnpj_basico',how='inner')"
      ],
      "metadata": {
        "id": "56dq46CnJrDm"
      },
      "execution_count": null,
      "outputs": []
    },
    {
      "cell_type": "code",
      "source": [
        "empresas_join.printSchema()\n",
        "# Como retorno, teremos as informações de ambos os dataframes,\n",
        "#como porte_da_empresa e capital_social, presentes no conjunto empresas, e nome_fantasia e logradouro, do conjunto estabelecimentos."
      ],
      "metadata": {
        "id": "253I-cHiKE23"
      },
      "execution_count": null,
      "outputs": []
    },
    {
      "cell_type": "code",
      "source": [
        "#Nesse dataframe iremos obter nossa tabela de frequencia.\n",
        "freq = empresas_join\\\n",
        "    .select(\n",
        "        'cnpj_basico', \n",
        "        f.year('data_de_inicio_atividade').alias('data_de_inicio')\n",
        "    )\\\n",
        "    .where('data_de_inicio >= 2010')\\\n",
        "    .groupBy('data_de_inicio')\\\n",
        "    .agg(f.count(\"cnpj_basico\").alias(\"frequencia\"))\\\n",
        "    .orderBy('data_de_inicio', ascending=True)"
      ],
      "metadata": {
        "id": "_Y1nHmN9KNJ9"
      },
      "execution_count": null,
      "outputs": []
    },
    {
      "cell_type": "code",
      "source": [
        "freq.toPandas()\n"
      ],
      "metadata": {
        "id": "2HMKM95oLZls"
      },
      "execution_count": null,
      "outputs": []
    },
    {
      "cell_type": "code",
      "source": [
        "#A ideia agora e termos uma somatoria da frequencia total ao final desse conjunto.Para isso se usa o metodo union(),\n",
        "# que e responsavel por juntar dois conjuntos um acima do outro.\n",
        "#No select farei a criação do rotulo total e a somatórioa das frequencias, e nisso usaremos o f.lit(), uma função que cria o valor literal que \n",
        "# chamaremos de Total.\n",
        "#E depois chama f.sum() para ser somado toda a colunda freq.frequencia, e depois renomearemos como frequencia.\n",
        "freq.union(\n",
        "    freq.select(\n",
        "        f.lit('Total').alias('data_de_inicio'),\n",
        "        f.sum(freq.frequencia).alias('frequencia')    \n",
        "        )\n",
        ").show()"
      ],
      "metadata": {
        "id": "7BqsqndeLclt"
      },
      "execution_count": null,
      "outputs": []
    },
    {
      "cell_type": "markdown",
      "source": [
        "#SparkSQL"
      ],
      "metadata": {
        "id": "5FfrokPgN3Y3"
      }
    },
    {
      "cell_type": "code",
      "source": [
        "empresas.createOrReplaceTempView(\"empresasView\")"
      ],
      "metadata": {
        "id": "UP0PjFcxN8mX"
      },
      "execution_count": null,
      "outputs": []
    },
    {
      "cell_type": "code",
      "source": [
        "spark.sql(\"SELECT * FROM empresaView\").show(5)"
      ],
      "metadata": {
        "id": "XPqlbhCqOJ-G"
      },
      "execution_count": null,
      "outputs": []
    },
    {
      "cell_type": "code",
      "source": [
        "spark\\\n",
        "  .sql(\"\"\"\n",
        "    SELECT *\n",
        "        FROM empresasView\n",
        "        WHERE capital_social_da_empresa = 50\n",
        "\n",
        "  \"\"\")\\\n",
        "  .show(5)"
      ],
      "metadata": {
        "id": "403XRT0gOqN8"
      },
      "execution_count": null,
      "outputs": []
    },
    {
      "cell_type": "code",
      "source": [
        "#Pegando a media das empresas\n",
        "spark\\\n",
        "    .sql(\"\"\"\n",
        "        SELECT porte_da_empresa, MEAN(capital_social_da_empresa) AS Media \n",
        "            FROM empresasView \n",
        "            GROUP BY porte_da_empresa\n",
        "    \"\"\")\\\n",
        "    .show(5)\n",
        "\n"
      ],
      "metadata": {
        "id": "jCztHkaceSDP"
      },
      "execution_count": null,
      "outputs": []
    },
    {
      "cell_type": "code",
      "source": [
        "empresas_join.createOrReplaceTempView(\"empresasJoinView\")"
      ],
      "metadata": {
        "id": "OSZu3fqqe4GL"
      },
      "execution_count": null,
      "outputs": []
    },
    {
      "cell_type": "code",
      "source": [
        "freq = spark\\\n",
        "    .sql(\"\"\"\n",
        "        SELECT YEAR(data_de_inicio_atividade) AS data_de_inicio, COUNT(cnpj_basico) AS count\n",
        "            FROM empresasJoinView \n",
        "            WHERE YEAR(data_de_inicio_atividade) >= 2010\n",
        "            GROUP BY data_de_inicio\n",
        "            ORDER BY data_de_inicio\n",
        "    \"\"\")\n",
        "\n",
        "freq\\\n",
        "    .show()"
      ],
      "metadata": {
        "id": "t7eSfuPBgEF-"
      },
      "execution_count": null,
      "outputs": []
    },
    {
      "cell_type": "code",
      "source": [
        "freq.createOrReplaceTempView(\"freqView\")"
      ],
      "metadata": {
        "id": "ArzekhY-hFWF"
      },
      "execution_count": null,
      "outputs": []
    },
    {
      "cell_type": "code",
      "source": [
        "spark\\\n",
        "    .sql(\"\"\"\n",
        "        SELECT *\n",
        "            FROM freqView\n",
        "        UNION ALL\n",
        "        SELECT 'Total' AS data_de_inicio, SUM(count) AS count\n",
        "            FROM freqView\n",
        "    \"\"\")\\\n",
        "    .show()"
      ],
      "metadata": {
        "id": "nS_F2AL9hxu5"
      },
      "execution_count": null,
      "outputs": []
    },
    {
      "cell_type": "markdown",
      "source": [
        "#Arquivos CSV"
      ],
      "metadata": {
        "id": "CNIRw9vbuOKR"
      }
    },
    {
      "cell_type": "code",
      "source": [
        "#armazenando o arquivo\n",
        "empresas.write.csv(\n",
        "    path= '/content/drive/MyDrive/curso-spark/empresas/csv',\n",
        "    mode='overwrite',\n",
        "    sep=';',\n",
        "    header=True\n",
        ")\n"
      ],
      "metadata": {
        "id": "7DAIkiwkuVZk"
      },
      "execution_count": null,
      "outputs": []
    },
    {
      "cell_type": "code",
      "source": [
        "#acessando como fico salvo\n",
        "empresas2= spark.read.csv(\n",
        "    path= '/content/drive/MyDrive/curso-spark/empresas/csv',\n",
        "    sep=';',\n",
        "    inferSchema=True,\n",
        "    header=True\n",
        ")\n"
      ],
      "metadata": {
        "id": "yejMJt7Qvt24"
      },
      "execution_count": null,
      "outputs": []
    },
    {
      "cell_type": "code",
      "source": [
        "empresas2.printSchema()"
      ],
      "metadata": {
        "id": "eT4tzkluv5bB"
      },
      "execution_count": null,
      "outputs": []
    },
    {
      "cell_type": "code",
      "source": [
        "socios.write.csv(\n",
        "    path='/content/drive/MyDrive/curso-spark/socios/csv',\n",
        "    mode='overwrite',\n",
        "    sep=';',\n",
        "    header=True\n",
        ")"
      ],
      "metadata": {
        "id": "J2K2r_6HwK_k"
      },
      "execution_count": null,
      "outputs": []
    },
    {
      "cell_type": "code",
      "source": [
        "socios2 = spark.read.csv(\n",
        "    path='/content/drive/MyDrive/curso-spark/socios/csv',\n",
        "    sep=';',\n",
        "    inferSchema=True,\n",
        "    header=True\n",
        ")"
      ],
      "metadata": {
        "id": "lW0-rr_Xw2Qp"
      },
      "execution_count": null,
      "outputs": []
    },
    {
      "cell_type": "code",
      "source": [
        "socios2.printSchema()"
      ],
      "metadata": {
        "id": "7iFTlZNxxIza"
      },
      "execution_count": null,
      "outputs": []
    },
    {
      "cell_type": "code",
      "source": [
        "estabelecimentos.write.csv(\n",
        "    path='/content/drive/MyDrive/curso-spark/estabelecimentos/csv',\n",
        "    mode='overwrite',\n",
        "    sep=';',\n",
        "    header=True\n",
        ")"
      ],
      "metadata": {
        "id": "4dLx5SSPwlvy"
      },
      "execution_count": null,
      "outputs": []
    },
    {
      "cell_type": "code",
      "source": [
        "estabelecimentos2 = spark.read.csv(\n",
        "    path='/content/drive/MyDrive/curso-spark/estabelecimentos/csv',\n",
        "    sep=';',\n",
        "    inferSchema=True,\n",
        "    header=True\n",
        "\n",
        ")"
      ],
      "metadata": {
        "id": "ypfAki4Rw1dm"
      },
      "execution_count": null,
      "outputs": []
    },
    {
      "cell_type": "code",
      "source": [
        "estabelecimentos2.printSchema()"
      ],
      "metadata": {
        "id": "bxIgCxKSyTGD"
      },
      "execution_count": null,
      "outputs": []
    }
  ]
}